{
 "cells": [
  {
   "cell_type": "code",
   "execution_count": 1,
   "metadata": {},
   "outputs": [],
   "source": [
    "import os\n",
    "base_directory = '/workspaces/streaming-prj'\n",
    "os.chdir(base_directory)"
   ]
  },
  {
   "cell_type": "markdown",
   "metadata": {},
   "source": [
    "make a connection"
   ]
  },
  {
   "cell_type": "code",
   "execution_count": 3,
   "metadata": {},
   "outputs": [
    {
     "name": "stdout",
     "output_type": "stream",
     "text": [
      "Sent message: Hello from Notebook 1\n"
     ]
    }
   ],
   "source": [
    "import socket\n",
    "\n",
    "# Setup UDP socket\n",
    "UDP_IP = \"127.0.0.1\"  # Localhost (for communication between notebooks on the same machine)\n",
    "UDP_PORT = 5005  # Port to use for communication\n",
    "\n",
    "sock = socket.socket(socket.AF_INET, socket.SOCK_DGRAM)  # Create UDP socket\n",
    "\n",
    "# Message to send\n",
    "message = \"Hello from Notebook 1\"\n",
    "\n",
    "# Send the message\n",
    "sock.sendto(message.encode(), (UDP_IP, UDP_PORT))\n",
    "print(f\"Sent message: {message}\")\n",
    "sock.close()\n"
   ]
  },
  {
   "cell_type": "markdown",
   "metadata": {},
   "source": [
    "send larger content"
   ]
  },
  {
   "cell_type": "code",
   "execution_count": 4,
   "metadata": {},
   "outputs": [
    {
     "name": "stdout",
     "output_type": "stream",
     "text": [
      "Sent chunk 1/4: {\"message\": \"This is a much larger message. This i...\n",
      "Sent chunk 2/4: s is a much larger message. This is a much larger ...\n",
      "Sent chunk 3/4: er message. This is a much larger message. This is...\n",
      "Sent chunk 4/4:  is a much larger message. \"}...\n"
     ]
    }
   ],
   "source": [
    "import socket\n",
    "import json\n",
    "import math\n",
    "\n",
    "# Setup UDP socket\n",
    "UDP_IP = \"127.0.0.1\"  # Localhost (for communication between notebooks on the same machine)\n",
    "UDP_PORT = 5005  # Port to use for communication\n",
    "\n",
    "sock = socket.socket(socket.AF_INET, socket.SOCK_DGRAM)  # Create UDP socket\n",
    "\n",
    "# Original message\n",
    "message = \"This is a much larger message. \" * 50  # Simulate a larger message\n",
    "\n",
    "# Convert the message to a JSON format\n",
    "data = {\"message\": message}\n",
    "json_data = json.dumps(data)\n",
    "\n",
    "# Split the JSON data into smaller chunks\n",
    "chunk_size = 512  # Define chunk size for transmission\n",
    "chunks = [json_data[i:i + chunk_size] for i in range(0, len(json_data), chunk_size)]\n",
    "\n",
    "# Send each chunk\n",
    "for idx, chunk in enumerate(chunks):\n",
    "    sock.sendto(chunk.encode(), (UDP_IP, UDP_PORT))\n",
    "    print(f\"Sent chunk {idx+1}/{len(chunks)}: {chunk[:50]}...\")  # Show first 50 characters\n",
    "sock.close()\n"
   ]
  },
  {
   "cell_type": "markdown",
   "metadata": {},
   "source": [
    "send an image"
   ]
  },
  {
   "cell_type": "code",
   "execution_count": 6,
   "metadata": {},
   "outputs": [
    {
     "name": "stdout",
     "output_type": "stream",
     "text": [
      "Sent chunk 1 of size 1024 bytes\n",
      "Sent chunk 2 of size 1024 bytes\n",
      "Sent chunk 3 of size 1024 bytes\n",
      "Sent chunk 4 of size 1024 bytes\n",
      "Sent chunk 5 of size 1024 bytes\n",
      "Sent chunk 6 of size 1024 bytes\n",
      "Sent chunk 7 of size 1024 bytes\n",
      "Sent chunk 8 of size 1024 bytes\n",
      "Sent chunk 9 of size 1024 bytes\n",
      "Sent chunk 10 of size 1024 bytes\n",
      "Sent chunk 11 of size 1024 bytes\n",
      "Sent chunk 12 of size 1024 bytes\n",
      "Sent chunk 13 of size 1024 bytes\n",
      "Sent chunk 14 of size 1024 bytes\n",
      "Sent chunk 15 of size 1024 bytes\n",
      "Sent chunk 16 of size 1024 bytes\n",
      "Sent chunk 17 of size 1024 bytes\n",
      "Sent chunk 18 of size 1024 bytes\n",
      "Sent chunk 19 of size 1024 bytes\n",
      "Sent chunk 20 of size 1024 bytes\n",
      "Sent chunk 21 of size 1024 bytes\n",
      "Sent chunk 22 of size 1024 bytes\n",
      "Sent chunk 23 of size 1024 bytes\n",
      "Sent chunk 24 of size 1024 bytes\n",
      "Sent chunk 25 of size 1024 bytes\n",
      "Sent chunk 26 of size 1024 bytes\n",
      "Sent chunk 27 of size 1024 bytes\n",
      "Sent chunk 28 of size 1024 bytes\n",
      "Sent chunk 29 of size 1024 bytes\n",
      "Sent chunk 30 of size 1024 bytes\n",
      "Sent chunk 31 of size 1024 bytes\n",
      "Sent chunk 32 of size 1024 bytes\n",
      "Sent chunk 33 of size 1024 bytes\n",
      "Sent chunk 34 of size 1024 bytes\n",
      "Sent chunk 35 of size 1024 bytes\n",
      "Sent chunk 36 of size 1024 bytes\n",
      "Sent chunk 37 of size 1024 bytes\n",
      "Sent chunk 38 of size 1024 bytes\n",
      "Sent chunk 39 of size 1024 bytes\n",
      "Sent chunk 40 of size 1024 bytes\n",
      "Sent chunk 41 of size 1024 bytes\n",
      "Sent chunk 42 of size 1024 bytes\n",
      "Sent chunk 43 of size 191 bytes\n",
      "Sent termination signal: 'END'\n"
     ]
    }
   ],
   "source": [
    "import socket\n",
    "import os\n",
    "\n",
    "# Setup UDP socket\n",
    "UDP_IP = \"127.0.0.1\"  # Localhost (for communication between notebooks on the same machine)\n",
    "UDP_PORT = 5005  # Port to use for communication\n",
    "\n",
    "sock = socket.socket(socket.AF_INET, socket.SOCK_DGRAM)  # Create UDP socket\n",
    "\n",
    "# Path to the binary file (e.g., an image or audio file)\n",
    "file_path = \"image/example_image.jpg\"  # Change this to any binary file\n",
    "\n",
    "# Open the file in binary mode\n",
    "with open(file_path, \"rb\") as file:\n",
    "    # Read the file in chunks\n",
    "    chunk_size = 1024  # 1 KB chunks\n",
    "    chunk_number = 0\n",
    "    while chunk := file.read(chunk_size):\n",
    "        sock.sendto(chunk, (UDP_IP, UDP_PORT))\n",
    "        chunk_number += 1\n",
    "        print(f\"Sent chunk {chunk_number} of size {len(chunk)} bytes\")\n",
    "\n",
    "# Send an 'END' signal to indicate the end of the transmission\n",
    "sock.sendto(b'END', (UDP_IP, UDP_PORT))\n",
    "print(\"Sent termination signal: 'END'\")\n",
    "\n",
    "sock.close()\n"
   ]
  },
  {
   "cell_type": "markdown",
   "metadata": {},
   "source": [
    "test audio"
   ]
  },
  {
   "cell_type": "code",
   "execution_count": 9,
   "metadata": {},
   "outputs": [
    {
     "ename": "ModuleNotFoundError",
     "evalue": "No module named 'pyaudio'",
     "output_type": "error",
     "traceback": [
      "\u001b[0;31m---------------------------------------------------------------------------\u001b[0m",
      "\u001b[0;31mModuleNotFoundError\u001b[0m                       Traceback (most recent call last)",
      "Cell \u001b[0;32mIn[9], line 3\u001b[0m\n\u001b[1;32m      1\u001b[0m \u001b[38;5;28;01mimport\u001b[39;00m \u001b[38;5;21;01mnumpy\u001b[39;00m \u001b[38;5;28;01mas\u001b[39;00m \u001b[38;5;21;01mnp\u001b[39;00m\n\u001b[1;32m      2\u001b[0m \u001b[38;5;28;01mimport\u001b[39;00m \u001b[38;5;21;01mwave\u001b[39;00m\n\u001b[0;32m----> 3\u001b[0m \u001b[38;5;28;01mimport\u001b[39;00m \u001b[38;5;21;01mpyaudio\u001b[39;00m\n\u001b[1;32m      5\u001b[0m \u001b[38;5;66;03m# Parameters for sine wave\u001b[39;00m\n\u001b[1;32m      6\u001b[0m sample_rate \u001b[38;5;241m=\u001b[39m \u001b[38;5;241m44100\u001b[39m  \u001b[38;5;66;03m# Samples per second\u001b[39;00m\n",
      "\u001b[0;31mModuleNotFoundError\u001b[0m: No module named 'pyaudio'"
     ]
    }
   ],
   "source": [
    "import numpy as np\n",
    "import wave\n",
    "import pyaudio\n",
    "\n",
    "# Parameters for sine wave\n",
    "sample_rate = 44100  # Samples per second\n",
    "duration = 2  # Duration of the tone in seconds\n",
    "frequency = 440  # Frequency of the sine wave (Hz, A4 pitch)\n",
    "\n",
    "# Generate the sine wave\n",
    "t = np.linspace(0, duration, int(sample_rate * duration), endpoint=False)  # Time values\n",
    "audio_data = np.sin(2 * np.pi * frequency * t)  # Sine wave formula\n",
    "\n",
    "# Convert to 16-bit PCM format\n",
    "audio_data = np.int16(audio_data * 32767)  # Scale to 16-bit PCM range\n",
    "\n",
    "# Save as .wav file (optional)\n",
    "with wave.open(\"sine_wave.wav\", 'wb') as wf:\n",
    "    wf.setnchannels(1)  # Mono audio\n",
    "    wf.setsampwidth(2)  # 16-bit audio\n",
    "    wf.setframerate(sample_rate)\n",
    "    wf.writeframes(audio_data.tobytes())\n",
    "\n",
    "# Play the generated sine wave using PyAudio\n",
    "p = pyaudio.PyAudio()\n",
    "stream = p.open(format=pyaudio.paInt16,\n",
    "                channels=1,\n",
    "                rate=sample_rate,\n",
    "                output=True)\n",
    "\n",
    "# Play audio in chunks\n",
    "chunk_size = 1024\n",
    "for i in range(0, len(audio_data), chunk_size):\n",
    "    stream.write(audio_data[i:i + chunk_size].tobytes())\n",
    "\n",
    "# Close stream\n",
    "stream.stop_stream()\n",
    "stream.close()\n",
    "p.terminate()\n"
   ]
  },
  {
   "cell_type": "code",
   "execution_count": 10,
   "metadata": {},
   "outputs": [
    {
     "name": "stderr",
     "output_type": "stream",
     "text": [
      "ALSA lib confmisc.c:767:(parse_card) cannot find card '0'\n",
      "ALSA lib conf.c:4732:(_snd_config_evaluate) function snd_func_card_driver returned error: No such file or directory\n",
      "ALSA lib confmisc.c:392:(snd_func_concat) error evaluating strings\n",
      "ALSA lib conf.c:4732:(_snd_config_evaluate) function snd_func_concat returned error: No such file or directory\n",
      "ALSA lib confmisc.c:1246:(snd_func_refer) error evaluating name\n",
      "ALSA lib conf.c:4732:(_snd_config_evaluate) function snd_func_refer returned error: No such file or directory\n",
      "ALSA lib conf.c:5220:(snd_config_expand) Evaluate error: No such file or directory\n",
      "ALSA lib pcm.c:2642:(snd_pcm_open_noupdate) Unknown PCM sysdefault\n",
      "ALSA lib confmisc.c:767:(parse_card) cannot find card '0'\n",
      "ALSA lib conf.c:4732:(_snd_config_evaluate) function snd_func_card_driver returned error: No such file or directory\n",
      "ALSA lib confmisc.c:392:(snd_func_concat) error evaluating strings\n",
      "ALSA lib conf.c:4732:(_snd_config_evaluate) function snd_func_concat returned error: No such file or directory\n",
      "ALSA lib confmisc.c:1246:(snd_func_refer) error evaluating name\n",
      "ALSA lib conf.c:4732:(_snd_config_evaluate) function snd_func_refer returned error: No such file or directory\n",
      "ALSA lib conf.c:5220:(snd_config_expand) Evaluate error: No such file or directory\n",
      "ALSA lib pcm.c:2642:(snd_pcm_open_noupdate) Unknown PCM sysdefault\n",
      "ALSA lib pcm.c:2642:(snd_pcm_open_noupdate) Unknown PCM cards.pcm.front\n",
      "ALSA lib pcm.c:2642:(snd_pcm_open_noupdate) Unknown PCM cards.pcm.rear\n",
      "ALSA lib pcm.c:2642:(snd_pcm_open_noupdate) Unknown PCM cards.pcm.center_lfe\n",
      "ALSA lib pcm.c:2642:(snd_pcm_open_noupdate) Unknown PCM cards.pcm.side\n",
      "ALSA lib pcm.c:2642:(snd_pcm_open_noupdate) Unknown PCM cards.pcm.surround21\n",
      "ALSA lib pcm.c:2642:(snd_pcm_open_noupdate) Unknown PCM cards.pcm.surround21\n",
      "ALSA lib pcm.c:2642:(snd_pcm_open_noupdate) Unknown PCM cards.pcm.surround40\n",
      "ALSA lib pcm.c:2642:(snd_pcm_open_noupdate) Unknown PCM cards.pcm.surround41\n",
      "ALSA lib pcm.c:2642:(snd_pcm_open_noupdate) Unknown PCM cards.pcm.surround50\n",
      "ALSA lib pcm.c:2642:(snd_pcm_open_noupdate) Unknown PCM cards.pcm.surround51\n",
      "ALSA lib pcm.c:2642:(snd_pcm_open_noupdate) Unknown PCM cards.pcm.surround71\n",
      "ALSA lib pcm.c:2642:(snd_pcm_open_noupdate) Unknown PCM cards.pcm.iec958\n",
      "ALSA lib pcm.c:2642:(snd_pcm_open_noupdate) Unknown PCM cards.pcm.iec958\n",
      "ALSA lib pcm.c:2642:(snd_pcm_open_noupdate) Unknown PCM cards.pcm.iec958\n",
      "ALSA lib pcm.c:2642:(snd_pcm_open_noupdate) Unknown PCM cards.pcm.hdmi\n",
      "ALSA lib pcm.c:2642:(snd_pcm_open_noupdate) Unknown PCM cards.pcm.hdmi\n",
      "ALSA lib pcm.c:2642:(snd_pcm_open_noupdate) Unknown PCM cards.pcm.modem\n",
      "ALSA lib pcm.c:2642:(snd_pcm_open_noupdate) Unknown PCM cards.pcm.modem\n",
      "ALSA lib pcm.c:2642:(snd_pcm_open_noupdate) Unknown PCM cards.pcm.phoneline\n",
      "ALSA lib pcm.c:2642:(snd_pcm_open_noupdate) Unknown PCM cards.pcm.phoneline\n",
      "ALSA lib confmisc.c:767:(parse_card) cannot find card '0'\n",
      "ALSA lib conf.c:4732:(_snd_config_evaluate) function snd_func_card_driver returned error: No such file or directory\n",
      "ALSA lib confmisc.c:392:(snd_func_concat) error evaluating strings\n",
      "ALSA lib conf.c:4732:(_snd_config_evaluate) function snd_func_concat returned error: No such file or directory\n",
      "ALSA lib confmisc.c:1246:(snd_func_refer) error evaluating name\n",
      "ALSA lib conf.c:4732:(_snd_config_evaluate) function snd_func_refer returned error: No such file or directory\n",
      "ALSA lib conf.c:5220:(snd_config_expand) Evaluate error: No such file or directory\n",
      "ALSA lib pcm.c:2642:(snd_pcm_open_noupdate) Unknown PCM default\n",
      "ALSA lib confmisc.c:767:(parse_card) cannot find card '0'\n",
      "ALSA lib conf.c:4732:(_snd_config_evaluate) function snd_func_card_driver returned error: No such file or directory\n",
      "ALSA lib confmisc.c:392:(snd_func_concat) error evaluating strings\n",
      "ALSA lib conf.c:4732:(_snd_config_evaluate) function snd_func_concat returned error: No such file or directory\n",
      "ALSA lib confmisc.c:1246:(snd_func_refer) error evaluating name\n",
      "ALSA lib conf.c:4732:(_snd_config_evaluate) function snd_func_refer returned error: No such file or directory\n",
      "ALSA lib conf.c:5220:(snd_config_expand) Evaluate error: No such file or directory\n",
      "ALSA lib pcm.c:2642:(snd_pcm_open_noupdate) Unknown PCM default\n",
      "ALSA lib confmisc.c:767:(parse_card) cannot find card '0'\n",
      "ALSA lib conf.c:4732:(_snd_config_evaluate) function snd_func_card_driver returned error: No such file or directory\n",
      "ALSA lib confmisc.c:392:(snd_func_concat) error evaluating strings\n",
      "ALSA lib conf.c:4732:(_snd_config_evaluate) function snd_func_concat returned error: No such file or directory\n",
      "ALSA lib confmisc.c:1246:(snd_func_refer) error evaluating name\n",
      "ALSA lib conf.c:4732:(_snd_config_evaluate) function snd_func_refer returned error: No such file or directory\n",
      "ALSA lib conf.c:5220:(snd_config_expand) Evaluate error: No such file or directory\n",
      "ALSA lib pcm.c:2642:(snd_pcm_open_noupdate) Unknown PCM dmix\n"
     ]
    },
    {
     "ename": "OSError",
     "evalue": "[Errno -9996] Invalid input device (no default output device)",
     "output_type": "error",
     "traceback": [
      "\u001b[0;31m---------------------------------------------------------------------------\u001b[0m",
      "\u001b[0;31mOSError\u001b[0m                                   Traceback (most recent call last)",
      "Cell \u001b[0;32mIn[10], line 19\u001b[0m\n\u001b[1;32m     16\u001b[0m RATE \u001b[38;5;241m=\u001b[39m \u001b[38;5;241m44100\u001b[39m  \u001b[38;5;66;03m# Sample rate (Hz)\u001b[39;00m\n\u001b[1;32m     17\u001b[0m CHUNK \u001b[38;5;241m=\u001b[39m \u001b[38;5;241m1024\u001b[39m  \u001b[38;5;66;03m# Number of frames per buffer\u001b[39;00m\n\u001b[0;32m---> 19\u001b[0m stream \u001b[38;5;241m=\u001b[39m \u001b[43mp\u001b[49m\u001b[38;5;241;43m.\u001b[39;49m\u001b[43mopen\u001b[49m\u001b[43m(\u001b[49m\u001b[38;5;28;43mformat\u001b[39;49m\u001b[38;5;241;43m=\u001b[39;49m\u001b[43mFORMAT\u001b[49m\u001b[43m,\u001b[49m\u001b[43m \u001b[49m\u001b[43mchannels\u001b[49m\u001b[38;5;241;43m=\u001b[39;49m\u001b[43mCHANNELS\u001b[49m\u001b[43m,\u001b[49m\u001b[43m \u001b[49m\u001b[43mrate\u001b[49m\u001b[38;5;241;43m=\u001b[39;49m\u001b[43mRATE\u001b[49m\u001b[43m,\u001b[49m\u001b[43m \u001b[49m\u001b[38;5;28;43minput\u001b[39;49m\u001b[38;5;241;43m=\u001b[39;49m\u001b[38;5;28;43;01mTrue\u001b[39;49;00m\u001b[43m,\u001b[49m\u001b[43m \u001b[49m\u001b[43mframes_per_buffer\u001b[49m\u001b[38;5;241;43m=\u001b[39;49m\u001b[43mCHUNK\u001b[49m\u001b[43m)\u001b[49m\n\u001b[1;32m     21\u001b[0m \u001b[38;5;28mprint\u001b[39m(\u001b[38;5;124m\"\u001b[39m\u001b[38;5;124mStreaming audio...\u001b[39m\u001b[38;5;124m\"\u001b[39m)\n\u001b[1;32m     23\u001b[0m \u001b[38;5;66;03m# Capture and send audio in real-time\u001b[39;00m\n",
      "File \u001b[0;32m~/.local/lib/python3.8/site-packages/pyaudio/__init__.py:639\u001b[0m, in \u001b[0;36mPyAudio.open\u001b[0;34m(self, *args, **kwargs)\u001b[0m\n\u001b[1;32m    631\u001b[0m \u001b[38;5;28;01mdef\u001b[39;00m \u001b[38;5;21mopen\u001b[39m(\u001b[38;5;28mself\u001b[39m, \u001b[38;5;241m*\u001b[39margs, \u001b[38;5;241m*\u001b[39m\u001b[38;5;241m*\u001b[39mkwargs):\n\u001b[1;32m    632\u001b[0m \u001b[38;5;250m    \u001b[39m\u001b[38;5;124;03m\"\"\"Opens a new stream.\u001b[39;00m\n\u001b[1;32m    633\u001b[0m \n\u001b[1;32m    634\u001b[0m \u001b[38;5;124;03m    See constructor for :py:func:`PyAudio.Stream.__init__` for parameter\u001b[39;00m\n\u001b[0;32m   (...)\u001b[0m\n\u001b[1;32m    637\u001b[0m \u001b[38;5;124;03m    :returns: A new :py:class:`PyAudio.Stream`\u001b[39;00m\n\u001b[1;32m    638\u001b[0m \u001b[38;5;124;03m    \"\"\"\u001b[39;00m\n\u001b[0;32m--> 639\u001b[0m     stream \u001b[38;5;241m=\u001b[39m \u001b[43mPyAudio\u001b[49m\u001b[38;5;241;43m.\u001b[39;49m\u001b[43mStream\u001b[49m\u001b[43m(\u001b[49m\u001b[38;5;28;43mself\u001b[39;49m\u001b[43m,\u001b[49m\u001b[43m \u001b[49m\u001b[38;5;241;43m*\u001b[39;49m\u001b[43margs\u001b[49m\u001b[43m,\u001b[49m\u001b[43m \u001b[49m\u001b[38;5;241;43m*\u001b[39;49m\u001b[38;5;241;43m*\u001b[39;49m\u001b[43mkwargs\u001b[49m\u001b[43m)\u001b[49m\n\u001b[1;32m    640\u001b[0m     \u001b[38;5;28mself\u001b[39m\u001b[38;5;241m.\u001b[39m_streams\u001b[38;5;241m.\u001b[39madd(stream)\n\u001b[1;32m    641\u001b[0m     \u001b[38;5;28;01mreturn\u001b[39;00m stream\n",
      "File \u001b[0;32m~/.local/lib/python3.8/site-packages/pyaudio/__init__.py:441\u001b[0m, in \u001b[0;36mPyAudio.Stream.__init__\u001b[0;34m(self, PA_manager, rate, channels, format, input, output, input_device_index, output_device_index, frames_per_buffer, start, input_host_api_specific_stream_info, output_host_api_specific_stream_info, stream_callback)\u001b[0m\n\u001b[1;32m    438\u001b[0m     arguments[\u001b[38;5;124m'\u001b[39m\u001b[38;5;124mstream_callback\u001b[39m\u001b[38;5;124m'\u001b[39m] \u001b[38;5;241m=\u001b[39m stream_callback\n\u001b[1;32m    440\u001b[0m \u001b[38;5;66;03m# calling pa.open returns a stream object\u001b[39;00m\n\u001b[0;32m--> 441\u001b[0m \u001b[38;5;28mself\u001b[39m\u001b[38;5;241m.\u001b[39m_stream \u001b[38;5;241m=\u001b[39m \u001b[43mpa\u001b[49m\u001b[38;5;241;43m.\u001b[39;49m\u001b[43mopen\u001b[49m\u001b[43m(\u001b[49m\u001b[38;5;241;43m*\u001b[39;49m\u001b[38;5;241;43m*\u001b[39;49m\u001b[43marguments\u001b[49m\u001b[43m)\u001b[49m\n\u001b[1;32m    443\u001b[0m \u001b[38;5;28mself\u001b[39m\u001b[38;5;241m.\u001b[39m_input_latency \u001b[38;5;241m=\u001b[39m \u001b[38;5;28mself\u001b[39m\u001b[38;5;241m.\u001b[39m_stream\u001b[38;5;241m.\u001b[39minputLatency\n\u001b[1;32m    444\u001b[0m \u001b[38;5;28mself\u001b[39m\u001b[38;5;241m.\u001b[39m_output_latency \u001b[38;5;241m=\u001b[39m \u001b[38;5;28mself\u001b[39m\u001b[38;5;241m.\u001b[39m_stream\u001b[38;5;241m.\u001b[39moutputLatency\n",
      "\u001b[0;31mOSError\u001b[0m: [Errno -9996] Invalid input device (no default output device)"
     ]
    }
   ],
   "source": [
    "import socket\n",
    "import pyaudio\n",
    "\n",
    "# Setup UDP socket\n",
    "UDP_IP = \"127.0.0.1\"  # Localhost (for communication between notebooks on the same machine)\n",
    "UDP_PORT = 5005  # Port to use for communication\n",
    "\n",
    "sock = socket.socket(socket.AF_INET, socket.SOCK_DGRAM)  # Create UDP socket\n",
    "\n",
    "# Setup PyAudio for real-time audio capture\n",
    "p = pyaudio.PyAudio()\n",
    "\n",
    "# Audio settings\n",
    "FORMAT = pyaudio.paInt16  # Audio format (16-bit PCM)\n",
    "CHANNELS = 1  # Mono\n",
    "RATE = 44100  # Sample rate (Hz)\n",
    "CHUNK = 1024  # Number of frames per buffer\n",
    "\n",
    "stream = p.open(format=FORMAT, channels=CHANNELS, rate=RATE, input=True, frames_per_buffer=CHUNK)\n",
    "\n",
    "print(\"Streaming audio...\")\n",
    "\n",
    "# Capture and send audio in real-time\n",
    "while True:\n",
    "    audio_data = stream.read(CHUNK)  # Capture a chunk of audio\n",
    "\n",
    "    # Send the audio chunk over UDP\n",
    "    sock.sendto(audio_data, (UDP_IP, UDP_PORT))\n",
    "\n",
    "    # To stop, we could add a condition (e.g., key press or timer), for now, we let it run indefinitely\n",
    "    # For example: if condition_to_stop: break\n",
    "    \n",
    "# Send the \"END\" signal when finished\n",
    "sock.sendto(b'END', (UDP_IP, UDP_PORT))\n",
    "print(\"Sent termination signal: 'END'\")\n",
    "\n",
    "sock.close()\n",
    "stream.stop_stream()\n",
    "stream.close()\n",
    "p.terminate()\n"
   ]
  },
  {
   "cell_type": "code",
   "execution_count": null,
   "metadata": {},
   "outputs": [],
   "source": [
    "m,,,,,asdfasdf"
   ]
  }
 ],
 "metadata": {
  "kernelspec": {
   "display_name": "Python 3",
   "language": "python",
   "name": "python3"
  },
  "language_info": {
   "codemirror_mode": {
    "name": "ipython",
    "version": 3
   },
   "file_extension": ".py",
   "mimetype": "text/x-python",
   "name": "python",
   "nbconvert_exporter": "python",
   "pygments_lexer": "ipython3",
   "version": "3.8.10"
  }
 },
 "nbformat": 4,
 "nbformat_minor": 2
}
