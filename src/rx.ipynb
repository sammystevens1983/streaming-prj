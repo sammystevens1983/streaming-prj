{
 "cells": [
  {
   "cell_type": "code",
   "execution_count": 1,
   "metadata": {},
   "outputs": [],
   "source": [
    "import os\n",
    "base_directory = '/workspaces/streaming-prj'\n",
    "os.chdir(base_directory)"
   ]
  },
  {
   "cell_type": "code",
   "execution_count": 2,
   "metadata": {},
   "outputs": [
    {
     "name": "stdout",
     "output_type": "stream",
     "text": [
      "Listening on 127.0.0.1:5005\n",
      "Received message: Hello from Notebook 1\n"
     ]
    },
    {
     "ename": "KeyboardInterrupt",
     "evalue": "",
     "output_type": "error",
     "traceback": [
      "\u001b[0;31m---------------------------------------------------------------------------\u001b[0m",
      "\u001b[0;31mKeyboardInterrupt\u001b[0m                         Traceback (most recent call last)",
      "Cell \u001b[0;32mIn[2], line 13\u001b[0m\n\u001b[1;32m     10\u001b[0m \u001b[38;5;28mprint\u001b[39m(\u001b[38;5;124mf\u001b[39m\u001b[38;5;124m\"\u001b[39m\u001b[38;5;124mListening on \u001b[39m\u001b[38;5;132;01m{\u001b[39;00mUDP_IP\u001b[38;5;132;01m}\u001b[39;00m\u001b[38;5;124m:\u001b[39m\u001b[38;5;132;01m{\u001b[39;00mUDP_PORT\u001b[38;5;132;01m}\u001b[39;00m\u001b[38;5;124m\"\u001b[39m)\n\u001b[1;32m     12\u001b[0m \u001b[38;5;28;01mwhile\u001b[39;00m \u001b[38;5;28;01mTrue\u001b[39;00m:\n\u001b[0;32m---> 13\u001b[0m     data, addr \u001b[38;5;241m=\u001b[39m \u001b[43msock\u001b[49m\u001b[38;5;241;43m.\u001b[39;49m\u001b[43mrecvfrom\u001b[49m\u001b[43m(\u001b[49m\u001b[38;5;241;43m1024\u001b[39;49m\u001b[43m)\u001b[49m  \u001b[38;5;66;03m# Buffer size 1024 bytes\u001b[39;00m\n\u001b[1;32m     14\u001b[0m     \u001b[38;5;28mprint\u001b[39m(\u001b[38;5;124mf\u001b[39m\u001b[38;5;124m\"\u001b[39m\u001b[38;5;124mReceived message: \u001b[39m\u001b[38;5;132;01m{\u001b[39;00mdata\u001b[38;5;241m.\u001b[39mdecode()\u001b[38;5;132;01m}\u001b[39;00m\u001b[38;5;124m\"\u001b[39m)\n",
      "\u001b[0;31mKeyboardInterrupt\u001b[0m: "
     ]
    }
   ],
   "source": [
    "import socket\n",
    "\n",
    "# Setup UDP socket\n",
    "UDP_IP = \"127.0.0.1\"  # Localhost (for communication between notebooks on the same machine)\n",
    "UDP_PORT = 5005  # Port to listen on\n",
    "\n",
    "sock = socket.socket(socket.AF_INET, socket.SOCK_DGRAM)  # Create UDP socket\n",
    "sock.bind((UDP_IP, UDP_PORT))  # Bind to address and port\n",
    "\n",
    "print(f\"Listening on {UDP_IP}:{UDP_PORT}\")\n",
    "\n",
    "while True:\n",
    "    data, addr = sock.recvfrom(1024)  # Buffer size 1024 bytes\n",
    "    print(f\"Received message: {data.decode()}\")\n"
   ]
  },
  {
   "cell_type": "code",
   "execution_count": 3,
   "metadata": {},
   "outputs": [
    {
     "name": "stdout",
     "output_type": "stream",
     "text": [
      "Listening on 127.0.0.1:5005\n",
      "Received chunk: {\"message\": \"This is a much larger message. This i...\n",
      "Received chunk: s is a much larger message. This is a much larger ...\n",
      "Received chunk: er message. This is a much larger message. This is...\n",
      "Received chunk:  is a much larger message. \"}...\n"
     ]
    },
    {
     "ename": "KeyboardInterrupt",
     "evalue": "",
     "output_type": "error",
     "traceback": [
      "\u001b[0;31m---------------------------------------------------------------------------\u001b[0m",
      "\u001b[0;31mKeyboardInterrupt\u001b[0m                         Traceback (most recent call last)",
      "Cell \u001b[0;32mIn[3], line 17\u001b[0m\n\u001b[1;32m     14\u001b[0m received_data \u001b[38;5;241m=\u001b[39m []\n\u001b[1;32m     16\u001b[0m \u001b[38;5;28;01mwhile\u001b[39;00m \u001b[38;5;28;01mTrue\u001b[39;00m:\n\u001b[0;32m---> 17\u001b[0m     data, addr \u001b[38;5;241m=\u001b[39m \u001b[43msock\u001b[49m\u001b[38;5;241;43m.\u001b[39;49m\u001b[43mrecvfrom\u001b[49m\u001b[43m(\u001b[49m\u001b[38;5;241;43m1024\u001b[39;49m\u001b[43m)\u001b[49m  \u001b[38;5;66;03m# Buffer size 1024 bytes\u001b[39;00m\n\u001b[1;32m     18\u001b[0m     \u001b[38;5;28;01mif\u001b[39;00m \u001b[38;5;129;01mnot\u001b[39;00m data:\n\u001b[1;32m     19\u001b[0m         \u001b[38;5;28;01mbreak\u001b[39;00m  \u001b[38;5;66;03m# Exit on empty data (end of transmission)\u001b[39;00m\n",
      "\u001b[0;31mKeyboardInterrupt\u001b[0m: "
     ]
    }
   ],
   "source": [
    "import socket\n",
    "import json\n",
    "\n",
    "# Setup UDP socket\n",
    "UDP_IP = \"127.0.0.1\"  # Localhost (for communication between notebooks on the same machine)\n",
    "UDP_PORT = 5005  # Port to listen on\n",
    "\n",
    "sock = socket.socket(socket.AF_INET, socket.SOCK_DGRAM)  # Create UDP socket\n",
    "sock.bind((UDP_IP, UDP_PORT))  # Bind to address and port\n",
    "\n",
    "print(f\"Listening on {UDP_IP}:{UDP_PORT}\")\n",
    "\n",
    "# Variable to hold the full message\n",
    "received_data = []\n",
    "\n",
    "while True:\n",
    "    data, addr = sock.recvfrom(1024)  # Buffer size 1024 bytes\n",
    "    if not data:\n",
    "        break  # Exit on empty data (end of transmission)\n",
    "    \n",
    "    received_data.append(data.decode())  # Store received chunk\n",
    "    print(f\"Received chunk: {data.decode()[:50]}...\")  # Show first 50 characters\n",
    "\n",
    "# Reconstruct the full message\n",
    "full_data = ''.join(received_data)\n",
    "\n",
    "# Decode JSON data\n",
    "try:\n",
    "    json_message = json.loads(full_data)\n",
    "    print(f\"Received full message: {json_message['message'][:100]}...\")  # Show first 100 characters\n",
    "except json.JSONDecodeError:\n",
    "    print(\"Failed to decode JSON data\")\n",
    "\n",
    "sock.close()\n"
   ]
  },
  {
   "cell_type": "code",
   "execution_count": 5,
   "metadata": {},
   "outputs": [
    {
     "name": "stdout",
     "output_type": "stream",
     "text": [
      "Listening on 127.0.0.1:5005\n",
      "Received chunk of size 1024 bytes\n",
      "Received chunk of size 1024 bytes\n",
      "Received chunk of size 1024 bytes\n",
      "Received chunk of size 1024 bytes\n",
      "Received chunk of size 1024 bytes\n",
      "Received chunk of size 1024 bytes\n",
      "Received chunk of size 1024 bytes\n",
      "Received chunk of size 1024 bytes\n",
      "Received chunk of size 1024 bytes\n",
      "Received chunk of size 1024 bytes\n",
      "Received chunk of size 1024 bytes\n",
      "Received chunk of size 1024 bytes\n",
      "Received chunk of size 1024 bytes\n",
      "Received chunk of size 1024 bytes\n",
      "Received chunk of size 1024 bytes\n",
      "Received chunk of size 1024 bytes\n",
      "Received chunk of size 1024 bytes\n",
      "Received chunk of size 1024 bytes\n",
      "Received chunk of size 1024 bytes\n",
      "Received chunk of size 1024 bytes\n",
      "Received chunk of size 1024 bytes\n",
      "Received chunk of size 1024 bytes\n",
      "Received chunk of size 1024 bytes\n",
      "Received chunk of size 1024 bytes\n",
      "Received chunk of size 1024 bytes\n",
      "Received chunk of size 1024 bytes\n",
      "Received chunk of size 1024 bytes\n",
      "Received chunk of size 1024 bytes\n",
      "Received chunk of size 1024 bytes\n",
      "Received chunk of size 1024 bytes\n",
      "Received chunk of size 1024 bytes\n",
      "Received chunk of size 1024 bytes\n",
      "Received chunk of size 1024 bytes\n",
      "Received chunk of size 1024 bytes\n",
      "Received chunk of size 1024 bytes\n",
      "Received chunk of size 1024 bytes\n",
      "Received chunk of size 1024 bytes\n",
      "Received chunk of size 1024 bytes\n",
      "Received chunk of size 1024 bytes\n",
      "Received chunk of size 1024 bytes\n",
      "Received chunk of size 1024 bytes\n",
      "Received chunk of size 1024 bytes\n",
      "Received chunk of size 191 bytes\n",
      "Received termination signal: 'END'. Stopping the transfer.\n",
      "File received and saved to image/received_image.jpg\n"
     ]
    }
   ],
   "source": [
    "import socket\n",
    "\n",
    "# Setup UDP socket\n",
    "UDP_IP = \"127.0.0.1\"  # Localhost (for communication between notebooks on the same machine)\n",
    "UDP_PORT = 5005  # Port to listen on\n",
    "\n",
    "sock = socket.socket(socket.AF_INET, socket.SOCK_DGRAM)  # Create UDP socket\n",
    "sock.bind((UDP_IP, UDP_PORT))  # Bind to address and port\n",
    "\n",
    "print(f\"Listening on {UDP_IP}:{UDP_PORT}\")\n",
    "\n",
    "# Variable to hold the binary data\n",
    "received_data = []\n",
    "output_file_path = \"image/received_image.jpg\"  # Path to save the received file\n",
    "\n",
    "while True:\n",
    "    data, addr = sock.recvfrom(1024)  # Buffer size 1024 bytes\n",
    "    if data == b'END':  # Check for the termination signal\n",
    "        print(\"Received termination signal: 'END'. Stopping the transfer.\")\n",
    "        break  # Exit the loop when 'END' is received\n",
    "    \n",
    "    received_data.append(data)  # Store received chunk\n",
    "    print(f\"Received chunk of size {len(data)} bytes\")\n",
    "\n",
    "# Reconstruct the full binary file\n",
    "with open(output_file_path, \"wb\") as output_file:\n",
    "    for chunk in received_data:\n",
    "        output_file.write(chunk)\n",
    "\n",
    "print(f\"File received and saved to {output_file_path}\")\n",
    "sock.close()\n"
   ]
  },
  {
   "cell_type": "code",
   "execution_count": null,
   "metadata": {},
   "outputs": [],
   "source": [
    "import socket\n",
    "import pyaudio\n",
    "\n",
    "# Setup UDP socket\n",
    "UDP_IP = \"127.0.0.1\"  # Localhost (for communication between notebooks on the same machine)\n",
    "UDP_PORT = 5005  # Port to listen on\n",
    "\n",
    "sock = socket.socket(socket.AF_INET, socket.SOCK_DGRAM)  # Create UDP socket\n",
    "sock.bind((UDP_IP, UDP_PORT))  # Bind to address and port\n",
    "\n",
    "# Setup PyAudio for audio playback\n",
    "p = pyaudio.PyAudio()\n",
    "\n",
    "# Audio settings\n",
    "FORMAT = pyaudio.paInt16  # Audio format (16-bit PCM)\n",
    "CHANNELS = 1  # Mono\n",
    "RATE = 44100  # Sample rate (Hz)\n",
    "CHUNK = 1024  # Number of frames per buffer\n",
    "\n",
    "# Open the stream for playback\n",
    "stream = p.open(format=FORMAT, channels=CHANNELS, rate=RATE, output=True, frames_per_buffer=CHUNK)\n",
    "\n",
    "print(\"Receiving and playing audio...\")\n",
    "\n",
    "while True:\n",
    "    # Receive the audio data over UDP\n",
    "    audio_data, addr = sock.recvfrom(CHUNK)\n",
    "    \n",
    "    if audio_data == b'END':  # Check for the termination signal\n",
    "        print(\"Received termination signal: 'END'. Stopping the transfer.\")\n",
    "        break  # Stop receiving when 'END' is received\n",
    "\n",
    "    # Play the received audio data\n",
    "    stream.write(audio_data)\n",
    "\n",
    "# Clean up\n",
    "sock.close()\n",
    "stream.stop_stream()\n",
    "stream.close()\n",
    "p.terminate()\n"
   ]
  }
 ],
 "metadata": {
  "kernelspec": {
   "display_name": "Python 3",
   "language": "python",
   "name": "python3"
  },
  "language_info": {
   "codemirror_mode": {
    "name": "ipython",
    "version": 3
   },
   "file_extension": ".py",
   "mimetype": "text/x-python",
   "name": "python",
   "nbconvert_exporter": "python",
   "pygments_lexer": "ipython3",
   "version": "3.8.10"
  }
 },
 "nbformat": 4,
 "nbformat_minor": 2
}
